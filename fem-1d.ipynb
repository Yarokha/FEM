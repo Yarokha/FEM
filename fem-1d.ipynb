{
 "cells": [
  {
   "cell_type": "markdown",
   "metadata": {},
   "source": [
    "**<font size=\"5\">Solving 1D Poisson`s problem with Finite Element Method (FEM)</font>**\n",
    "\n",
    "V.Yaroshenko"
   ]
  },
  {
   "cell_type": "markdown",
   "metadata": {},
   "source": [
    "# Table of Contents\n",
    "Initialize the notebook, import all needed libs"
   ]
  },
  {
   "cell_type": "code",
   "execution_count": 1,
   "metadata": {},
   "outputs": [
    {
     "name": "stdout",
     "output_type": "stream",
     "text": [
      "Populating the interactive namespace from numpy and matplotlib\n"
     ]
    }
   ],
   "source": [
    "from IPython.display import display, Math, Latex\n",
    "import numpy as np\n",
    "import scipy.sparse as sp\n",
    "import matplotlib.pyplot as plt\n",
    "%pylab inline\n",
    "pylab.rcParams['figure.figsize'] = (12, 7)"
   ]
  },
  {
   "cell_type": "markdown",
   "metadata": {},
   "source": [
    "# Analytical solution"
   ]
  },
  {
   "cell_type": "markdown",
   "metadata": {},
   "source": [
    "$$\\frac{d^2}{dx^2}V(x) = \\frac{\\rho_0}{\\varepsilon_0\\varepsilon}$$\n",
    "Boundary condition:\n",
    "$$V(0) = V_0$$\n",
    "$$V(d) = V_d$$\n",
    "\n",
    "Solution:\n",
    "\n",
    "$$V(x) = \\frac{\\rho_0}{2 \\varepsilon_0\\varepsilon}x^2-\\left(\\frac{\\rho_0d}{2\\varepsilon_0\\varepsilon}+\\frac{V_0}{d}\\right)x+V_0$$"
   ]
  },
  {
   "cell_type": "markdown",
   "metadata": {},
   "source": [
    "# FEM\n",
    "Short review on qudratic elements \n",
    "\n",
    "Anastasis C. Polycarpou \"Introduction to the Finite Element Method in Electromagnetics\"\n",
    "(doi:10.2200/S00019ED1V01Y200604CEM004)\n",
    "\n",
    "Chapter 1. One-Dimensional Boundary-Value Problems"
   ]
  },
  {
   "cell_type": "markdown",
   "metadata": {},
   "source": [
    "## Quadratic Elements"
   ]
  },
  {
   "cell_type": "markdown",
   "metadata": {},
   "source": [
    "We can split our 1D continuous space into uniform line segments (cells), and we will address them as finite elements. Each element has coordinates $x_1$, $x_2$ and $x_3$, which correspond to local nodes 1 and 2 of the element. We can transform this coordinates to the natural ones (related to the reference cell):\n",
    "$$\\xi = \\frac{2(x-x_3)}{x_2-x_1}$$\n",
    "where\n",
    "$$x_3=\\frac{x_1+x_2}{2}$$"
   ]
  },
  {
   "cell_type": "markdown",
   "metadata": {},
   "source": [
    "![](img/1.png)"
   ]
  },
  {
   "cell_type": "markdown",
   "metadata": {},
   "source": [
    "This way the coordinate inside the cell will be $(- 1 \\leq \\xi \\leq 1)$. We will use uniform domain discretization and approximate the solution with linear shape functions:\n",
    "$$N_1(\\xi)=\\frac{1}{2}\\xi(\\xi-1)$$\n",
    "$$N_2(\\xi)=\\frac{1}{2}\\xi(\\xi+1)$$\n",
    "$$N_3(\\xi)=(1-\\xi)(1+\\xi)$$"
   ]
  },
  {
   "cell_type": "markdown",
   "metadata": {},
   "source": [
    "![](img/2.png)"
   ]
  },
  {
   "cell_type": "markdown",
   "metadata": {},
   "source": [
    "At any point inside the master (reference) element, the primary unknown quantity of potential $V$ can be expressed as approximate value\n",
    "$$\n",
    "\\widetilde{V}(\\xi)=V_1N_1(\\xi)+V_2N_2(\\xi)+V_3N_3(\\xi)\n",
    "$$ \n",
    "or we can map it back to the real cell\n",
    "$$\n",
    "\\widetilde{V}(x)=\\left.\\sum_{j=1}^{n}v_j N_j(x)\\right|_{n=3}\n",
    "$$\n",
    "where $v_j$ are the solution values at the nodes of the element."
   ]
  },
  {
   "cell_type": "markdown",
   "metadata": {},
   "source": [
    "To calculate coefficients of matrix $K^e$ for one element:\n",
    "$$K_{ij}^e = \\int_{x_1}^{x_2} \\left( \\frac{dN_i}{dx} \\right) \\varepsilon \n",
    "\\left(\\frac{dN_j }{dx}\n",
    "\\right) dx$$\n",
    "and vector $f^e$:\n",
    "$$f_i^e=\\int_{x_1}^{x_2}N_i\\rho_v dx$$"
   ]
  },
  {
   "cell_type": "markdown",
   "metadata": {},
   "source": [
    "$$d\\xi=\\frac{2}{x_2-x_1}dx=\\frac{2}{l^e}dx$$\n",
    "$l^e$ is the length of an element\n",
    "$$dx=\\frac{l^e}{2}d\\xi$$"
   ]
  },
  {
   "cell_type": "markdown",
   "metadata": {},
   "source": [
    "$$K_{ij}^e =\\frac{2\\varepsilon}{l^e} \\int_{-1}^{1} \\left( \\frac{dN_i}{d\\xi} \\right) \\left(\\frac{dN_j }{d\\xi}\\right) d\\xi$$\n",
    "for i, j = 1, 2, 3"
   ]
  },
  {
   "cell_type": "markdown",
   "metadata": {},
   "source": [
    "$$f_{i}^e =-\\frac{l^e \\rho}{2} \\int_{-1}^{1}N_i(\\xi) d\\xi$$\n",
    "for i = 1, 2, 3"
   ]
  },
  {
   "cell_type": "markdown",
   "metadata": {},
   "source": [
    "$$K^e=\\frac{\\varepsilon}{3l^e}\n",
    "\\begin{bmatrix}\n",
    "     7  &  1 & -8\\\\\n",
    "     1  &  7 & -8\\\\\n",
    "    -8  & -8 & 16\n",
    "\\end{bmatrix}$$\n",
    "and \n",
    "$$f^e= -\\frac{l^e \\rho_0}{6}\n",
    "\\begin{bmatrix}\n",
    "    1\\\\\n",
    "    1\\\\\n",
    "    4\n",
    "\\end{bmatrix}$$"
   ]
  },
  {
   "cell_type": "markdown",
   "metadata": {},
   "source": [
    "## Assembly of Global Matrix and Vector"
   ]
  },
  {
   "cell_type": "markdown",
   "metadata": {},
   "source": [
    "To understand and build global matrix K and vector f you can use the algorithm which is given in the book mentioned earlier or read next more or less simple explonation.\n",
    "For this approach we need to rebuild matrix $K^e$:\n",
    "$$K^e=\\frac{\\varepsilon}{3l^e}\n",
    "\\begin{bmatrix}\n",
    "     K_{1,1}  &  K_{2,1} & K_{3,1}\\\\\n",
    "     K_{1,2}  &  K_{2,2} & K_{3,2}\\\\\n",
    "     K_{1,3}  &  K_{2,3} & K_{3,3}\n",
    "\\end{bmatrix} \\Longrightarrow \\frac{\\varepsilon}{3l^e}\n",
    "\\begin{bmatrix}\n",
    "     K_{1,1}  &  K_{3,1} & K_{2,1}\\\\\n",
    "     K_{1,3}  &  K_{3,3} & K_{3,2}\\\\\n",
    "     K_{1,2}  &  K_{2,3} & K_{2,2}\n",
    "\\end{bmatrix}$$\n",
    "\n",
    "\n",
    "after rebuild:\n",
    "$$K^e=\\frac{\\varepsilon}{3l^e}\n",
    "\\begin{bmatrix}\n",
    "     7  &  -8 &  1\\\\\n",
    "    -8  &  16 & -8\\\\\n",
    "     1  &  -8 &  7\n",
    "\\end{bmatrix}$$\n",
    "and vector $f^e$:\n",
    "$$f^e= -\\frac{l^e \\rho_0}{6}\n",
    "\\begin{bmatrix}\n",
    "    f_1\\\\\n",
    "    f_2\\\\\n",
    "    f_3\n",
    "\\end{bmatrix} \\Longrightarrow\n",
    "-\\frac{l^e \\rho_0}{6}\n",
    "\\begin{bmatrix}\n",
    "    f_1\\\\\n",
    "    f_3\\\\\n",
    "    f_2\n",
    "\\end{bmatrix}$$\n",
    "after rebuild:\n",
    "$$f^e= -\\frac{l^e \\rho_0}{6}\n",
    "\\begin{bmatrix}\n",
    "    1\\\\\n",
    "    4\\\\\n",
    "    1\n",
    "\\end{bmatrix}$$"
   ]
  },
  {
   "cell_type": "markdown",
   "metadata": {},
   "source": [
    "It should be done because the third elements of matrix $K^e$ and $f^e$ describe the middle node. To build global matrix K and vector f we should connect thelast node with the first node of the next element. "
   ]
  },
  {
   "cell_type": "markdown",
   "metadata": {},
   "source": [
    "For two elements  global matrix $K$:  \n",
    "$$K = \\frac{\\varepsilon}{3l^e}\n",
    "\\begin{bmatrix}\n",
    "     K_{1,1}^{(1)}  &  K_{3,1}^{(1)} & K_{2,1}            &     0    &    0 \\\\\n",
    "     K_{1,3}^{(1)}  &  K_{3,3}^{(1)} & K_{3,2}            &     0    &    0 \\\\\n",
    "     K_{1,2}^{(1)}  &  K_{2,3}^{(1)} & K_{2,2}^{(1)} + K_{1,1}^{(2)}   &  K_{3,1}^{(2)}  & K_{2,1}^{(2)} \\\\\n",
    "        0     &     0    & K_{1,3}^{(2)}            &  K_{3,3}^{(2)}  & K_{3,2}^{(2)} \\\\\n",
    "        0     &     0    & K_{1,2}^{(2)}             &  K_{2,3}^{(2)}  & K_{2,2}^{(2)} \n",
    "\\end{bmatrix}$$"
   ]
  },
  {
   "cell_type": "markdown",
   "metadata": {},
   "source": [
    "and vector $f$:\n",
    "$$f= -\\frac{l^e \\rho_0}{6}\n",
    "\\begin{bmatrix}\n",
    "    f_1^{(1)} \\\\\n",
    "    f_3^{(1)} \\\\\n",
    "    f_2^{(1)}  + f_1^{(2)} \\\\\n",
    "    f_3^{(2)} \\\\\n",
    "    f_2^{(2)} \n",
    "\\end{bmatrix}$$"
   ]
  },
  {
   "cell_type": "markdown",
   "metadata": {},
   "source": [
    "Next step to apply boundary vondition:\n",
    "$$f_i= f_i -K_{1,i}V_0$$\n",
    "$$f_i= f_i -K_{N,i}V_d$$\n",
    "\n",
    "and delete the first and the last row and column of $K$:\n",
    "\n",
    "$$K = \\frac{\\varepsilon}{3l^e}\n",
    "\\begin{bmatrix}\n",
    "      K_{3,3}^{(1)} & K_{3,2}            &     0   \\\\\n",
    "      K_{2,3}^{(1)} & K_{2,2}^{(1)} + K_{1,1}^{(2)}   &  K_{3,1}^{(2)}  \\\\\n",
    "     0    & K_{1,3}^{(2)}            &  K_{3,3}^{(2)}   \n",
    "\\end{bmatrix}$$\n",
    "\n",
    "and the first and the last element of $f$:\n",
    " $$f= -\\frac{l^e \\rho_0}{6}\n",
    "\\begin{bmatrix}\n",
    "    f_3^{(1)} \\\\\n",
    "    f_2^{(1)}  + f_1^{(2)} \\\\\n",
    "    f_3^{(2)}\n",
    "\\end{bmatrix}$$\n",
    "\n",
    "And solve: \n",
    "$$KV=f$$"
   ]
  },
  {
   "cell_type": "markdown",
   "metadata": {},
   "source": [
    "# FEM implementation"
   ]
  },
  {
   "cell_type": "code",
   "execution_count": 2,
   "metadata": {},
   "outputs": [
    {
     "data": {
      "image/png": "[encoded data removed]",
      "text/plain": [
       "<matplotlib.figure.Figure at 0x1d1fc2d9c88>"
      ]
     },
     "metadata": {},
     "output_type": "display_data"
    }
   ],
   "source": [
    "n = 4 #number of elements\n",
    "d = 0.08 #m\n",
    "le = d/n #length of element\n",
    "\n",
    "# constants\n",
    "eps_0 = 8.8541878176*10e-12 #F/m\n",
    "eps_r = 1.0\n",
    "eps = eps_0*eps_r\n",
    "rho_0 = 10e-8 # C/m**3\n",
    "\n",
    "#boundaries\n",
    "V_0 = 1.0 #Volt\n",
    "V_d = 0 #Volt\n",
    "#building of matrix K\n",
    "dia = np.ones(2*n+1)*(-8)\n",
    "dia2 = np.zeros(2*n+1)\n",
    "dia2[0:2*n+1:2] = 1\n",
    "main_dia = np.ones(2*n+1)*7\n",
    "main_dia[1: 2*n+1: 2] = 16\n",
    "main_dia[2: 2*n: 2] += 7\n",
    "K = sp.dia_matrix(([dia2, dia, main_dia, dia, dia2], [-2, -1, 0, 1, 2]), [2*n+1, 2*n+1]).toarray()\n",
    "\n",
    "#building of vector f\n",
    "f = np.ones(2*n+1)\n",
    "f[1: 2*n: 2] = 4\n",
    "f[2: 2*n: 2] += 1\n",
    "f = -le**2*rho_0*f/eps/2\n",
    "\n",
    "#appying of boundary condition\n",
    "f = f - V_0*K[:, 0]\n",
    "f = f - V_d*K[:, 2*n]\n",
    "f = f[1:-1]\n",
    "K = K[1:-1, 1:-1]\n",
    "V = np.zeros(2*n+1)\n",
    "V[0] = V_0\n",
    "V[2*n] =V_d\n",
    "\n",
    "#solving\n",
    "V[1:-1] = np.linalg.solve(K, f)\n",
    "\n",
    "#plotting\n",
    "x = np.linspace(0,d, 2*n+1)\n",
    "for i in range (0,2*n,2):\n",
    "    x_e = np.linspace(x[i],x[i+2], 100)    \n",
    "    xi = 2*(x_e-x[i+1])/(x[i+2]-x[i])\n",
    "    V_e = V[i+2]*1/2*xi*(xi+1)+V[i+1]*(1-xi)*(1+xi)+V[i]*1/2*xi*(xi-1)\n",
    "    plt.plot(x_e,V_e, label=\"FEM %i\"% (int(i/2)+1) )\n",
    "x1 = np.linspace(0, d,10)\n",
    "exact_V = rho_0/2/eps*x1**2-(rho_0*d/2/eps+V_0/d)*x1+V_0 #exact solution\n",
    "plt.plot(x1, exact_V, '*',label=\"Exact\")\n",
    "plt.legend()\n",
    "plt.show()"
   ]
  },
  {
   "cell_type": "code",
   "execution_count": null,
   "metadata": {
    "collapsed": true
   },
   "outputs": [],
   "source": []
  }
 ],
 "metadata": {
  "kernelspec": {
   "display_name": "Python 3",
   "language": "python",
   "name": "python3"
  },
  "language_info": {
   "codemirror_mode": {
    "name": "ipython",
    "version": 3
   },
   "file_extension": ".py",
   "mimetype": "text/x-python",
   "name": "python",
   "nbconvert_exporter": "python",
   "pygments_lexer": "ipython3",
   "version": "3.6.0"
  }
 },
 "nbformat": 4,
 "nbformat_minor": 1
}
